{
 "cells": [
  {
   "cell_type": "markdown",
   "metadata": {},
   "source": [
    "<img src=\"http://imgur.com/1ZcRyrc.png\" style=\"float: left; margin: 15px; height: 80px\">\n",
    "\n",
    "# Project 3\n",
    "\n",
    "### Regression and Classification with the Ames Housing Data\n",
    "\n",
    "---\n",
    "\n",
    "You have just joined a new \"full stack\" real estate company in Ames, Iowa. The strategy of the firm is two-fold:\n",
    "- Own the entire process from the purchase of the land all the way to sale of the house, and anything in between.\n",
    "- Use statistical analysis to optimize investment and maximize return.\n",
    "\n",
    "The company is still small, and though investment is substantial the short-term goals of the company are more oriented towards purchasing existing houses and flipping them as opposed to constructing entirely new houses. That being said, the company has access to a large construction workforce operating at rock-bottom prices.\n",
    "\n",
    "This project uses the [Ames housing data recently made available on kaggle](https://www.kaggle.com/c/house-prices-advanced-regression-techniques)."
   ]
  },
  {
   "cell_type": "markdown",
   "metadata": {},
   "source": [
    "1. Clean data\n",
    "    1a. Drop Id column\n",
    "    1b. Remove data that are unrelated to residential type\n",
    "    1c. Spilt the dataset into 6 categorical subsets\n",
    "    1d. Check and modify the value types of the subsets based on their characteristic  \n",
    "    1e. Replace numeric and ordinal nan to mean /categorical nan to \"unknown\"\n",
    "    1f. Convert categorical subsets values to dummy variables\n",
    "    1g. Combine subsets to either fixed or nonfixed and standardize both sets \n",
    "then spilt data to before_2010 and during_2010\n",
    "Further split them to fixed and non-fixed, then ordinal, categorical, and numerical data\n",
    "set up models - lasso - link with next step\n",
    "use cross validation\n",
    "use t-test on results- can check via results.pvalues from OLS\n",
    "\n"
   ]
  },
  {
   "cell_type": "markdown",
   "metadata": {},
   "source": []
  },
  {
   "cell_type": "code",
   "execution_count": 1,
   "metadata": {},
   "outputs": [],
   "source": [
    "import numpy as np\n",
    "import scipy.stats as stats\n",
    "import seaborn as sns\n",
    "import matplotlib.pyplot as plt\n",
    "import pandas as pd\n",
    "\n",
    "sns.set_style('whitegrid')\n",
    "\n",
    "%config InlineBackend.figure_format = 'retina'\n",
    "%matplotlib inline"
   ]
  },
  {
   "cell_type": "markdown",
   "metadata": {},
   "source": [
    "<img src=\"http://imgur.com/l5NasQj.png\" style=\"float: left; margin: 25px 15px 0px 0px; height: 25px\">\n",
    "\n",
    "## 1. Estimating the value of homes from fixed characteristics.\n",
    "\n",
    "---\n",
    "\n",
    "Your superiors have outlined this year's strategy for the company:\n",
    "1. Develop an algorithm to reliably estimate the value of residential houses based on *fixed* characteristics.\n",
    "2. Identify characteristics of houses that the company can cost-effectively change/renovate with their construction team.\n",
    "3. Evaluate the mean dollar value of different renovations.\n",
    "\n",
    "Then we can use that to buy houses that are likely to sell for more than the cost of the purchase plus renovations.\n",
    "\n",
    "Your first job is to tackle #1. You have a dataset of housing sale data with a huge amount of features identifying different aspects of the house. The full description of the data features can be found in a separate file:\n",
    "\n",
    "    housing.csv\n",
    "    data_description.txt\n",
    "    \n",
    "You need to build a reliable estimator for the price of the house given characteristics of the house that cannot be renovated. Some examples include:\n",
    "- The neighborhood\n",
    "- Square feet\n",
    "- Bedrooms, bathrooms\n",
    "- Basement and garage space\n",
    "\n",
    "and many more. \n",
    "\n",
    "Some examples of things that **ARE renovate-able:**\n",
    "- Roof and exterior features\n",
    "- \"Quality\" metrics, such as kitchen quality\n",
    "- \"Condition\" metrics, such as condition of garage\n",
    "- Heating and electrical components\n",
    "\n",
    "and generally anything you deem can be modified without having to undergo major construction on the house.\n",
    "\n",
    "---\n",
    "\n",
    "**Your goals:**\n",
    "1. Perform any cleaning, feature engineering, and EDA you deem necessary.\n",
    "- Be sure to remove any houses that are not residential from the dataset.\n",
    "- Identify **fixed** features that can predict price.\n",
    "- Train a model on pre-2010 data and evaluate its performance on the 2010 houses.\n",
    "- Characterize your model. How well does it perform? What are the best estimates of price?\n",
    "\n",
    "> **Note:** The EDA and feature engineering component to this project is not trivial! Be sure to always think critically and creatively. Justify your actions! Use the data description file!"
   ]
  },
  {
   "cell_type": "code",
   "execution_count": 2,
   "metadata": {},
   "outputs": [],
   "source": [
    "# Load the data\n",
    "house = pd.read_csv('./housing.csv')"
   ]
  },
  {
   "cell_type": "markdown",
   "metadata": {},
   "source": [
    "1a. Drop Id column"
   ]
  },
  {
   "cell_type": "code",
   "execution_count": 3,
   "metadata": {},
   "outputs": [],
   "source": [
    "house.drop(\"Id\", axis= 1, inplace = True)"
   ]
  },
  {
   "cell_type": "markdown",
   "metadata": {},
   "source": [
    "1b. Remove data that is unrelated to residential type"
   ]
  },
  {
   "cell_type": "code",
   "execution_count": 4,
   "metadata": {},
   "outputs": [],
   "source": [
    "residential_zoning = [\"FV\", \"RH\", \"RL\", \"RP\", \"RM\"]\n",
    "df = house.loc[house['MSZoning'].isin(residential_zoning)]"
   ]
  },
  {
   "cell_type": "markdown",
   "metadata": {},
   "source": [
    "1c. Spilt the dataset into the following 6 categorical subsets\n",
    "\n",
    "Fixed Categorical:\n",
    "MSSubClass, MSZoning, Street, Alley, LotShape, LandContour, LotConfig, LandSlope, Neighborhood, Condition1, Condition2, BldgType, HouseStyle, RoofStyle, MasVnrType, Foundation, BsmtQual, BsmtExposure, GarageType, MiscFeature, MoSold\n",
    "\n",
    "Fixed Numeric:\n",
    "LotFrontage, LotArea, MasVnrArea, TotalBsmtSF, 1stFlrSF, 2ndFlrSF, GrLivArea, BsmtFullBath, BsmtHalfBath, FullBath, HalfBath, Bedroom, KitchenAbvGr, TotRmsAbvGrd, Fireplaces, GarageCars, GarageArea, WoodDeckSF, OpenPorchSF, EnclosedPorch, 3SsnPorch, ScreenPorch, PoolArea, MiscVal\n",
    "\n",
    "Fixed Ordinal:\n",
    "YearBuilt, GarageYrBlt\n",
    "\n",
    "Non-fixed Categorical:\n",
    "Utilities, RoofMatl, Exterior1st, Exterior2nd, BsmtCond, BsmtFinType1, BsmtFinType2, Heating, CentralAir, Electrical, KitchenQual, Functional, FireplaceQu, GarageFinish, GarageQual, GarageCond, PavedDrive, Fence, SaleType, ExterQual, ExterCond, HeatingQC\n",
    "\n",
    "Non-fixed Numeric:\n",
    "BsmtFinSF2, BsmtUnfSF, LowQualFinSF\n",
    "\t\n",
    "Non-fixed Ordinal:\n",
    "OverallQual, OverallCond, YearRemodAdd"
   ]
  },
  {
   "cell_type": "code",
   "execution_count": 5,
   "metadata": {},
   "outputs": [],
   "source": [
    "fixed_categorical = [\"MSSubClass\", \"MSZoning\", \"Street\", \"Alley\", \"LotShape\", \"LandContour\", \"LotConfig\", \"LandSlope\", \"Neighborhood\", \"Condition1\", \"Condition2\", \"BldgType\", \"HouseStyle\", \"RoofStyle\", \"MasVnrType\", \"Foundation\", \"BsmtQual\", \"BsmtExposure\", \"GarageType\", \"MiscFeature\", \"MoSold\", \"YrSold\",'SaleCondition']\n",
    "fixed_numeric = [\"LotFrontage\", \"LotArea\", \"MasVnrArea\", \"TotalBsmtSF\", \"1stFlrSF\", \"2ndFlrSF\", \"GrLivArea\", \"BsmtFullBath\", \"BsmtHalfBath\", \"FullBath\", \"HalfBath\", \"BedroomAbvGr\", \"KitchenAbvGr\", \"TotRmsAbvGrd\", \"Fireplaces\", \"GarageCars\", \"GarageArea\", \"WoodDeckSF\", \"OpenPorchSF\", \"EnclosedPorch\", \"3SsnPorch\", \"ScreenPorch\", \"PoolArea\", \"MiscVal\"]\n",
    "fixed_ordinal =[\"YearBuilt\", \"GarageYrBlt\"]\n",
    "nonfixed_categorical = [\"Utilities\", \"RoofMatl\", \"Exterior1st\", \"Exterior2nd\", \"BsmtCond\", \"BsmtFinType1\", \"BsmtFinType2\", \"Heating\", \"CentralAir\", \"Electrical\", \"KitchenQual\", \"Functional\", \"FireplaceQu\", \"GarageFinish\", \"GarageQual\", \"GarageCond\", \"PavedDrive\", \"Fence\", \"SaleType\", \"ExterQual\", \"ExterCond\", \"HeatingQC\"]\n",
    "nonfixed_numeric = [\"BsmtFinSF2\", \"BsmtUnfSF\", \"LowQualFinSF\"]\n",
    "nonfixed_ordinal =[\"OverallQual\", \"OverallCond\", \"YearRemodAdd\"]\n",
    "\n",
    "df_fixed_categorical = df[fixed_categorical]\n",
    "df_fixed_numeric = df[fixed_numeric]\n",
    "df_fixed_ordinal = df[fixed_ordinal]\n",
    "df_nonfixed_categorical = df[nonfixed_categorical]\n",
    "df_nonfixed_numeric = df[nonfixed_numeric]\n",
    "df_nonfixed_ordinal = df[nonfixed_ordinal]\n"
   ]
  },
  {
   "cell_type": "markdown",
   "metadata": {},
   "source": [
    "1d. Check and modify the value types of the subsets based on their characteristic \n",
    "Details: categorical -> object/str, numeric -> int/float, ordinal -> int/float\n"
   ]
  },
  {
   "cell_type": "code",
   "execution_count": 6,
   "metadata": {},
   "outputs": [
    {
     "name": "stderr",
     "output_type": "stream",
     "text": [
      "C:\\Anaconda2\\lib\\site-packages\\ipykernel_launcher.py:10: SettingWithCopyWarning: \n",
      "A value is trying to be set on a copy of a slice from a DataFrame.\n",
      "Try using .loc[row_indexer,col_indexer] = value instead\n",
      "\n",
      "See the caveats in the documentation: http://pandas.pydata.org/pandas-docs/stable/indexing.html#indexing-view-versus-copy\n",
      "  # Remove the CWD from sys.path while we load stuff.\n",
      "C:\\Anaconda2\\lib\\site-packages\\ipykernel_launcher.py:11: SettingWithCopyWarning: \n",
      "A value is trying to be set on a copy of a slice from a DataFrame.\n",
      "Try using .loc[row_indexer,col_indexer] = value instead\n",
      "\n",
      "See the caveats in the documentation: http://pandas.pydata.org/pandas-docs/stable/indexing.html#indexing-view-versus-copy\n",
      "  # This is added back by InteractiveShellApp.init_path()\n",
      "C:\\Anaconda2\\lib\\site-packages\\ipykernel_launcher.py:12: SettingWithCopyWarning: \n",
      "A value is trying to be set on a copy of a slice from a DataFrame.\n",
      "Try using .loc[row_indexer,col_indexer] = value instead\n",
      "\n",
      "See the caveats in the documentation: http://pandas.pydata.org/pandas-docs/stable/indexing.html#indexing-view-versus-copy\n",
      "  if sys.path[0] == '':\n"
     ]
    }
   ],
   "source": [
    "# Inspect the types by uncommenting and running the following statments\n",
    "# df_fixed_categorical.info()\n",
    "# df_fixed_numeric.info()\n",
    "# df_fixed_ordinal.info()\n",
    "# df_nonfixed_categorical.info()\n",
    "# df_nonfixed_numeric.info()\n",
    "# df_nonfixed_ordinal.info()\n",
    "\n",
    "# based on findings, MSSubClass, YrSold, and MoSold should be in str instead of numeric.\n",
    "df_fixed_categorical['MSSubClass'] = df_fixed_categorical['MSSubClass'].apply(lambda x: str(x))\n",
    "df_fixed_categorical['MoSold'] = df_fixed_categorical['MoSold'].apply(lambda x: str(x))\n",
    "df_fixed_categorical['YrSold'] = df_fixed_categorical['YrSold'].apply(lambda x: str(x))\n"
   ]
  },
  {
   "cell_type": "markdown",
   "metadata": {},
   "source": [
    "1e. Replace numeric and ordinal nan to mean /categorical nan to \"unknown\""
   ]
  },
  {
   "cell_type": "code",
   "execution_count": 7,
   "metadata": {},
   "outputs": [],
   "source": [
    "# replacing nan from numeric and ordinal subsets with mean\n",
    "df_fixed_numeric = df_fixed_numeric.fillna(df_fixed_numeric.mean())\n",
    "df_fixed_ordinal = df_fixed_ordinal.fillna(df_fixed_ordinal.mean())\n",
    "df_nonfixed_numeric = df_nonfixed_numeric.fillna(df_nonfixed_numeric.mean())\n",
    "df_nonfixed_ordinal = df_nonfixed_ordinal.fillna(df_nonfixed_ordinal.mean())\n",
    "\n",
    "# replacing nan from categorical subsets with 'unknown'\n",
    "df_fixed_categorical = df_fixed_categorical.fillna(\"unknown\")\n",
    "df_nonfixed_categorical = df_nonfixed_categorical.fillna(\"unknown\")\n"
   ]
  },
  {
   "cell_type": "markdown",
   "metadata": {},
   "source": [
    "1f. convert categorical subsets values to dummy variables"
   ]
  },
  {
   "cell_type": "code",
   "execution_count": 8,
   "metadata": {},
   "outputs": [],
   "source": [
    "df_fixed_categorical = pd.get_dummies(df_fixed_categorical, drop_first = True) \n",
    "df_nonfixed_categorical = pd.get_dummies(df_nonfixed_categorical, drop_first = True)"
   ]
  },
  {
   "cell_type": "markdown",
   "metadata": {},
   "source": [
    "Combine subsets to either fixed or nonfixed and standardize both sets, then split to pre 2010 and 2010"
   ]
  },
  {
   "cell_type": "code",
   "execution_count": 9,
   "metadata": {},
   "outputs": [
    {
     "name": "stderr",
     "output_type": "stream",
     "text": [
      "C:\\Anaconda2\\lib\\site-packages\\ipykernel_launcher.py:14: SettingWithCopyWarning: \n",
      "A value is trying to be set on a copy of a slice from a DataFrame.\n",
      "Try using .loc[row_indexer,col_indexer] = value instead\n",
      "\n",
      "See the caveats in the documentation: http://pandas.pydata.org/pandas-docs/stable/indexing.html#indexing-view-versus-copy\n",
      "  \n",
      "C:\\Anaconda2\\lib\\site-packages\\pandas\\core\\indexing.py:537: SettingWithCopyWarning: \n",
      "A value is trying to be set on a copy of a slice from a DataFrame.\n",
      "Try using .loc[row_indexer,col_indexer] = value instead\n",
      "\n",
      "See the caveats in the documentation: http://pandas.pydata.org/pandas-docs/stable/indexing.html#indexing-view-versus-copy\n",
      "  self.obj[item] = s\n",
      "C:\\Anaconda2\\lib\\site-packages\\ipykernel_launcher.py:15: SettingWithCopyWarning: \n",
      "A value is trying to be set on a copy of a slice from a DataFrame.\n",
      "Try using .loc[row_indexer,col_indexer] = value instead\n",
      "\n",
      "See the caveats in the documentation: http://pandas.pydata.org/pandas-docs/stable/indexing.html#indexing-view-versus-copy\n",
      "  from ipykernel import kernelapp as app\n",
      "C:\\Anaconda2\\lib\\site-packages\\ipykernel_launcher.py:17: SettingWithCopyWarning: \n",
      "A value is trying to be set on a copy of a slice from a DataFrame.\n",
      "Try using .loc[row_indexer,col_indexer] = value instead\n",
      "\n",
      "See the caveats in the documentation: http://pandas.pydata.org/pandas-docs/stable/indexing.html#indexing-view-versus-copy\n",
      "C:\\Anaconda2\\lib\\site-packages\\ipykernel_launcher.py:18: SettingWithCopyWarning: \n",
      "A value is trying to be set on a copy of a slice from a DataFrame.\n",
      "Try using .loc[row_indexer,col_indexer] = value instead\n",
      "\n",
      "See the caveats in the documentation: http://pandas.pydata.org/pandas-docs/stable/indexing.html#indexing-view-versus-copy\n"
     ]
    }
   ],
   "source": [
    "from sklearn.preprocessing import StandardScaler\n",
    "\n",
    "scaler = StandardScaler()\n",
    "\n",
    "df_fixed = pd.concat([df_fixed_numeric, df_fixed_ordinal, df_fixed_categorical], axis=1)\n",
    "df_nonfixed = pd.concat([df_nonfixed_numeric, df_nonfixed_ordinal, df_nonfixed_categorical], axis=1)\n",
    "\n",
    "df_fixed_pre2010 = df_fixed[df_fixed['YrSold_2010'] == 0]\n",
    "df_fixed_2010 = df_fixed[df_fixed['YrSold_2010'] == 1]\n",
    "df_nonfixed_pre2010 = df_nonfixed[df_fixed['YrSold_2010']== 0]\n",
    "df_nonfixed_2010 = df_nonfixed[df_fixed['YrSold_2010'] == 1]\n",
    "\n",
    "# for question 1\n",
    "df_fixed_pre2010[list(df_fixed_pre2010)] = scaler.fit_transform(df_fixed_pre2010[list(df_fixed_pre2010)])\n",
    "df_fixed_2010[list(df_fixed_2010)] = scaler.fit_transform(df_fixed_2010[list(df_fixed_2010)])\n",
    "# for question 2\n",
    "df_nonfixed_pre2010[list(df_nonfixed_pre2010)] = scaler.fit_transform(df_nonfixed_pre2010[list(df_nonfixed_pre2010)])\n",
    "df_nonfixed_2010[list(df_nonfixed_2010)] = scaler.fit_transform(df_nonfixed_2010[list(df_nonfixed_2010)])"
   ]
  },
  {
   "cell_type": "markdown",
   "metadata": {},
   "source": [
    "1g. We will be using linear regression + lasso because we didn't remove a single feature voluntarily. So we should let lasso remove as much as possible.\n",
    "1h. Find lasso alpha optimal."
   ]
  },
  {
   "cell_type": "code",
   "execution_count": 10,
   "metadata": {},
   "outputs": [
    {
     "name": "stderr",
     "output_type": "stream",
     "text": [
      "............................................................................................................................................................................................................................................................................................................................................................................................................................................................................................................................................................................................................................................................................................................................................................................................................................................................................................................................................................................................................................................................................................................................................................................................................................................................................................................................................................................................................................................................................................................................................................................................................................................................................................................................................................................................................................................................................................................................................................................................................................................................................................................................................................................................................................................................................................................................................................................................................................................................................................................................................................................................................................................................................................................................................................................................................................................................................................................................................................................................................................................................................................................................................................................................................................................................................................................................................................................................................................................................................................................................................................................................................................................................................................................................................................................................................................................................................................................................................................................................................................................................................................................................................................................................................................................................................................................................................................................................................................................................................................................................................................................................................................................................................................................................................................................................................................................................................................................................................................................................................................................................................................................................................................................................."
     ]
    },
    {
     "name": "stdout",
     "output_type": "stream",
     "text": [
      "580.9976486168202\n"
     ]
    },
    {
     "name": "stderr",
     "output_type": "stream",
     "text": [
      "...........[Parallel(n_jobs=1)]: Done  10 out of  10 | elapsed:    1.8s finished\n"
     ]
    }
   ],
   "source": [
    "from sklearn.linear_model import Lasso, LassoCV\n",
    "from sklearn.model_selection import cross_val_score\n",
    "\n",
    "Y = df[df['YrSold'] != 2010]['SalePrice']\n",
    "optimal_lasso = LassoCV(n_alphas=500, cv=10, verbose=1)\n",
    "optimal_lasso.fit(df_fixed_pre2010, Y)\n",
    "\n",
    "print optimal_lasso.alpha_"
   ]
  },
  {
   "cell_type": "markdown",
   "metadata": {},
   "source": [
    "1i. Apply the lasso model with cross validations"
   ]
  },
  {
   "cell_type": "code",
   "execution_count": 11,
   "metadata": {},
   "outputs": [
    {
     "name": "stdout",
     "output_type": "stream",
     "text": [
      "[0.89709092 0.84780207 0.85695907 0.73611857 0.82990953 0.72137892\n",
      " 0.87765097 0.81839601 0.53676191 0.85903685]\n",
      "0.7981104811987627\n",
      "Percent variables zeroed out: 0.44375\n"
     ]
    }
   ],
   "source": [
    "lasso = Lasso(alpha=optimal_lasso.alpha_, fit_intercept = True)\n",
    "\n",
    "lasso_scores = cross_val_score(lasso, df_fixed_pre2010, Y, cv=10)\n",
    "lasso.fit(df_fixed_pre2010, Y)\n",
    "print lasso_scores\n",
    "print np.mean(lasso_scores)\n",
    "lasso_coefs = pd.DataFrame({'variable':df_fixed_pre2010.columns,\n",
    "                            'coef':lasso.coef_,\n",
    "                            'abs_coef':np.abs(lasso.coef_)})\n",
    "\n",
    "lasso_coefs.sort_values('abs_coef', inplace=True, ascending=False)\n",
    "\n",
    "print 'Percent variables zeroed out:', np.sum((lasso.coef_ == 0))/float(len(lasso.coef_))"
   ]
  },
  {
   "cell_type": "markdown",
   "metadata": {},
   "source": [
    "1j. Evaluate the strength of the model using a scatter plot"
   ]
  },
  {
   "cell_type": "code",
   "execution_count": 12,
   "metadata": {},
   "outputs": [],
   "source": [
    "pred_y = pd.DataFrame(lasso.predict(df_fixed_2010), columns = ['predicted_price']).reset_index(drop=True)\n",
    "y = pd.DataFrame(df[df['YrSold'] == 2010]['SalePrice']).reset_index(drop=True)\n",
    "\n",
    "q1_result = pd.concat([y, pred_y], axis=1)\n",
    "\n"
   ]
  },
  {
   "cell_type": "code",
   "execution_count": 13,
   "metadata": {},
   "outputs": [
    {
     "data": {
      "text/plain": [
       "<matplotlib.axes._subplots.AxesSubplot at 0xc5dc0f0>"
      ]
     },
     "execution_count": 13,
     "metadata": {},
     "output_type": "execute_result"
    },
    {
     "data": {
      "image/png": "[encoded data removed]",
      "text/plain": [
       "<matplotlib.figure.Figure at 0xc3d18d0>"
      ]
     },
     "metadata": {
      "image/png": {
       "height": 258,
       "width": 399
      }
     },
     "output_type": "display_data"
    }
   ],
   "source": [
    "#answer\n",
    "q1_result.plot(0,1, kind='scatter')"
   ]
  },
  {
   "cell_type": "markdown",
   "metadata": {},
   "source": [
    "<img src=\"http://imgur.com/l5NasQj.png\" style=\"float: left; margin: 25px 15px 0px 0px; height: 25px\">\n",
    "\n",
    "## 2. Determine any value of *changeable* property characteristics unexplained by the *fixed* ones.\n",
    "\n",
    "---\n",
    "\n",
    "Now that you have a model that estimates the price of a house based on its static characteristics, we can move forward with part 2 and 3 of the plan: what are the costs/benefits of quality, condition, and renovations?\n",
    "\n",
    "There are two specific requirements for these estimates:\n",
    "1. The estimates of effects must be in terms of dollars added or subtracted from the house value. \n",
    "2. The effects must be on the variance in price remaining from the first model.\n",
    "\n",
    "The residuals from the first model (training and testing) represent the variance in price unexplained by the fixed characteristics. Of that variance in price remaining, how much of it can be explained by the easy-to-change aspects of the property?\n",
    "\n",
    "---\n",
    "\n",
    "**Your goals:**\n",
    "1. Evaluate the effect in dollars of the renovate-able features. \n",
    "- How would your company use this second model and its coefficients to determine whether they should buy a property or not? Explain how the company can use the two models you have built to determine if they can make money. \n",
    "- Investigate how much of the variance in price remaining is explained by these features.\n",
    "- Do you trust your model? Should it be used to evaluate which properties to buy and fix up?"
   ]
  },
  {
   "cell_type": "code",
   "execution_count": 14,
   "metadata": {},
   "outputs": [],
   "source": [
    "# This whole section is dedicated to find all the residuals\n",
    "pred_y = pd.DataFrame(lasso.predict(df_fixed_pre2010), columns = ['predicted_price']).reset_index(drop=True)\n",
    "y = pd.DataFrame(df[df['YrSold'] != 2010]['SalePrice']).reset_index(drop=True)\n",
    "\n",
    "result = pd.concat([y, pred_y], axis=1)\n",
    "\n",
    "#find and combine both pre2010 and 2010 residuals\n",
    "residuals = pd.DataFrame(result['SalePrice'] - result['predicted_price'])\n",
    "residuals_2010 = pd.DataFrame(q1_result['SalePrice'] - q1_result['predicted_price'])\n",
    "residuals = residuals.append(residuals_2010)\n",
    "residuals[list(residuals)] = scaler.fit_transform(residuals[list(residuals)])\n"
   ]
  },
  {
   "cell_type": "code",
   "execution_count": 15,
   "metadata": {},
   "outputs": [
    {
     "data": {
      "text/plain": [
       "<matplotlib.axes._subplots.AxesSubplot at 0xc84f390>"
      ]
     },
     "execution_count": 15,
     "metadata": {},
     "output_type": "execute_result"
    },
    {
     "data": {
      "image/png": "[encoded data removed]",
      "text/plain": [
       "<matplotlib.figure.Figure at 0xd2992b0>"
      ]
     },
     "metadata": {
      "image/png": {
       "height": 258,
       "width": 399
      }
     },
     "output_type": "display_data"
    }
   ],
   "source": [
    "result.plot(0,1, kind='scatter')"
   ]
  },
  {
   "cell_type": "markdown",
   "metadata": {},
   "source": [
    "2. Simlar to Q1, find optimal alpha, run lasso using nonfixed data"
   ]
  },
  {
   "cell_type": "code",
   "execution_count": 16,
   "metadata": {},
   "outputs": [
    {
     "name": "stderr",
     "output_type": "stream",
     "text": [
      "C:\\Anaconda2\\lib\\site-packages\\sklearn\\linear_model\\coordinate_descent.py:1094: DataConversionWarning: A column-vector y was passed when a 1d array was expected. Please change the shape of y to (n_samples, ), for example using ravel().\n",
      "  y = column_or_1d(y, warn=True)\n",
      "...................................................................................................................................................................................................................................................................................................................................................................................................................................................................................................................................................................................................................................................................................................................................................................................................................................................................................................................................................................................................................................................................................................................................................................................................................................................................................................................................................................................................................................................................................................................................................................................................................................................................................................................................................................................................................................................................................................................................................................................................................................................................................................................................................................................................................................................................................................................................................................................................................................................................................................................................................................................................................................................................................................................................................................................................................................................................................................................................................................................................................................................................................................................................................................................................................................................................................................................................................................................................................................................................................................................................................................................................................................................................................................................................................................................................................................................................................................................................................................................................................................................................................................................................................................................................................................................................................................................................................................................................................................................................................................................................................................................................................................................................................."
     ]
    },
    {
     "name": "stdout",
     "output_type": "stream",
     "text": [
      "0.012128352260413141\n"
     ]
    },
    {
     "name": "stderr",
     "output_type": "stream",
     "text": [
      "....................................................................................................................................................................................................................................................................................................................................................................................................................................................................................................................[Parallel(n_jobs=1)]: Done  10 out of  10 | elapsed:    1.2s finished\n"
     ]
    }
   ],
   "source": [
    "# Find lasso alpha\n",
    "optimal_lasso = LassoCV(n_alphas=500, cv=10, verbose=1)\n",
    "optimal_lasso.fit(df_nonfixed, residuals)\n",
    "\n",
    "print optimal_lasso.alpha_"
   ]
  },
  {
   "cell_type": "code",
   "execution_count": 17,
   "metadata": {},
   "outputs": [
    {
     "name": "stdout",
     "output_type": "stream",
     "text": [
      "[-0.03705486 -0.02664619  0.02261874  0.01239982 -0.00986853  0.00098299\n",
      " -0.00442637  0.00814332 -0.03140529 -0.01475007]\n",
      "-0.008000642888155541\n",
      "Percent variables zeroed out: 0.8934426229508197\n"
     ]
    }
   ],
   "source": [
    "lasso = Lasso(alpha=optimal_lasso.alpha_, fit_intercept = True)\n",
    "\n",
    "lasso_scores = cross_val_score(lasso, df_nonfixed, residuals, cv=10)\n",
    "lasso.fit(df_nonfixed, residuals)\n",
    "print lasso_scores\n",
    "print np.mean(lasso_scores)\n",
    "lasso_coefs = pd.DataFrame({'variable':df_nonfixed.columns,\n",
    "                            'coef':lasso.coef_,\n",
    "                            'abs_coef':np.abs(lasso.coef_)})\n",
    "\n",
    "lasso_coefs.sort_values('abs_coef', inplace=True, ascending=False)\n",
    "\n",
    "print 'Percent variables zeroed out:', np.sum((lasso.coef_ == 0))/float(len(lasso.coef_))"
   ]
  },
  {
   "cell_type": "code",
   "execution_count": 18,
   "metadata": {},
   "outputs": [
    {
     "data": {
      "text/html": [
       "<div>\n",
       "<style scoped>\n",
       "    .dataframe tbody tr th:only-of-type {\n",
       "        vertical-align: middle;\n",
       "    }\n",
       "\n",
       "    .dataframe tbody tr th {\n",
       "        vertical-align: top;\n",
       "    }\n",
       "\n",
       "    .dataframe thead th {\n",
       "        text-align: right;\n",
       "    }\n",
       "</style>\n",
       "<table border=\"1\" class=\"dataframe\">\n",
       "  <thead>\n",
       "    <tr style=\"text-align: right;\">\n",
       "      <th></th>\n",
       "      <th>abs_coef</th>\n",
       "      <th>coef</th>\n",
       "      <th>variable</th>\n",
       "    </tr>\n",
       "  </thead>\n",
       "  <tbody>\n",
       "    <tr>\n",
       "      <th>71</th>\n",
       "      <td>0.103969</td>\n",
       "      <td>-0.103969</td>\n",
       "      <td>KitchenQual_Gd</td>\n",
       "    </tr>\n",
       "    <tr>\n",
       "      <th>35</th>\n",
       "      <td>0.090448</td>\n",
       "      <td>0.090448</td>\n",
       "      <td>Exterior2nd_MetalSd</td>\n",
       "    </tr>\n",
       "    <tr>\n",
       "      <th>98</th>\n",
       "      <td>0.087254</td>\n",
       "      <td>-0.087254</td>\n",
       "      <td>PavedDrive_Y</td>\n",
       "    </tr>\n",
       "    <tr>\n",
       "      <th>26</th>\n",
       "      <td>0.068272</td>\n",
       "      <td>-0.068272</td>\n",
       "      <td>Exterior1st_Wd Sdng</td>\n",
       "    </tr>\n",
       "    <tr>\n",
       "      <th>3</th>\n",
       "      <td>0.029237</td>\n",
       "      <td>0.029237</td>\n",
       "      <td>OverallQual</td>\n",
       "    </tr>\n",
       "    <tr>\n",
       "      <th>121</th>\n",
       "      <td>0.015165</td>\n",
       "      <td>-0.015165</td>\n",
       "      <td>HeatingQC_TA</td>\n",
       "    </tr>\n",
       "    <tr>\n",
       "      <th>82</th>\n",
       "      <td>0.012430</td>\n",
       "      <td>-0.012430</td>\n",
       "      <td>FireplaceQu_TA</td>\n",
       "    </tr>\n",
       "    <tr>\n",
       "      <th>48</th>\n",
       "      <td>0.004283</td>\n",
       "      <td>0.004283</td>\n",
       "      <td>BsmtFinType1_GLQ</td>\n",
       "    </tr>\n",
       "    <tr>\n",
       "      <th>4</th>\n",
       "      <td>0.000803</td>\n",
       "      <td>0.000803</td>\n",
       "      <td>OverallCond</td>\n",
       "    </tr>\n",
       "    <tr>\n",
       "      <th>0</th>\n",
       "      <td>0.000341</td>\n",
       "      <td>0.000341</td>\n",
       "      <td>BsmtFinSF2</td>\n",
       "    </tr>\n",
       "    <tr>\n",
       "      <th>2</th>\n",
       "      <td>0.000301</td>\n",
       "      <td>0.000301</td>\n",
       "      <td>LowQualFinSF</td>\n",
       "    </tr>\n",
       "    <tr>\n",
       "      <th>5</th>\n",
       "      <td>0.000269</td>\n",
       "      <td>-0.000269</td>\n",
       "      <td>YearRemodAdd</td>\n",
       "    </tr>\n",
       "    <tr>\n",
       "      <th>1</th>\n",
       "      <td>0.000079</td>\n",
       "      <td>0.000079</td>\n",
       "      <td>BsmtUnfSF</td>\n",
       "    </tr>\n",
       "    <tr>\n",
       "      <th>10</th>\n",
       "      <td>0.000000</td>\n",
       "      <td>-0.000000</td>\n",
       "      <td>RoofMatl_Roll</td>\n",
       "    </tr>\n",
       "    <tr>\n",
       "      <th>81</th>\n",
       "      <td>0.000000</td>\n",
       "      <td>0.000000</td>\n",
       "      <td>FireplaceQu_Po</td>\n",
       "    </tr>\n",
       "    <tr>\n",
       "      <th>91</th>\n",
       "      <td>0.000000</td>\n",
       "      <td>0.000000</td>\n",
       "      <td>GarageQual_unknown</td>\n",
       "    </tr>\n",
       "    <tr>\n",
       "      <th>90</th>\n",
       "      <td>0.000000</td>\n",
       "      <td>-0.000000</td>\n",
       "      <td>GarageQual_TA</td>\n",
       "    </tr>\n",
       "    <tr>\n",
       "      <th>89</th>\n",
       "      <td>0.000000</td>\n",
       "      <td>0.000000</td>\n",
       "      <td>GarageQual_Po</td>\n",
       "    </tr>\n",
       "    <tr>\n",
       "      <th>88</th>\n",
       "      <td>0.000000</td>\n",
       "      <td>0.000000</td>\n",
       "      <td>GarageQual_Gd</td>\n",
       "    </tr>\n",
       "    <tr>\n",
       "      <th>87</th>\n",
       "      <td>0.000000</td>\n",
       "      <td>0.000000</td>\n",
       "      <td>GarageQual_Fa</td>\n",
       "    </tr>\n",
       "    <tr>\n",
       "      <th>86</th>\n",
       "      <td>0.000000</td>\n",
       "      <td>0.000000</td>\n",
       "      <td>GarageFinish_unknown</td>\n",
       "    </tr>\n",
       "    <tr>\n",
       "      <th>85</th>\n",
       "      <td>0.000000</td>\n",
       "      <td>-0.000000</td>\n",
       "      <td>GarageFinish_Unf</td>\n",
       "    </tr>\n",
       "    <tr>\n",
       "      <th>84</th>\n",
       "      <td>0.000000</td>\n",
       "      <td>-0.000000</td>\n",
       "      <td>GarageFinish_RFn</td>\n",
       "    </tr>\n",
       "    <tr>\n",
       "      <th>83</th>\n",
       "      <td>0.000000</td>\n",
       "      <td>0.000000</td>\n",
       "      <td>FireplaceQu_unknown</td>\n",
       "    </tr>\n",
       "    <tr>\n",
       "      <th>80</th>\n",
       "      <td>0.000000</td>\n",
       "      <td>0.000000</td>\n",
       "      <td>FireplaceQu_Gd</td>\n",
       "    </tr>\n",
       "    <tr>\n",
       "      <th>93</th>\n",
       "      <td>0.000000</td>\n",
       "      <td>0.000000</td>\n",
       "      <td>GarageCond_Gd</td>\n",
       "    </tr>\n",
       "    <tr>\n",
       "      <th>79</th>\n",
       "      <td>0.000000</td>\n",
       "      <td>-0.000000</td>\n",
       "      <td>FireplaceQu_Fa</td>\n",
       "    </tr>\n",
       "    <tr>\n",
       "      <th>78</th>\n",
       "      <td>0.000000</td>\n",
       "      <td>0.000000</td>\n",
       "      <td>Functional_Typ</td>\n",
       "    </tr>\n",
       "    <tr>\n",
       "      <th>77</th>\n",
       "      <td>0.000000</td>\n",
       "      <td>0.000000</td>\n",
       "      <td>Functional_Sev</td>\n",
       "    </tr>\n",
       "    <tr>\n",
       "      <th>76</th>\n",
       "      <td>0.000000</td>\n",
       "      <td>-0.000000</td>\n",
       "      <td>Functional_Mod</td>\n",
       "    </tr>\n",
       "    <tr>\n",
       "      <th>...</th>\n",
       "      <td>...</td>\n",
       "      <td>...</td>\n",
       "      <td>...</td>\n",
       "    </tr>\n",
       "    <tr>\n",
       "      <th>12</th>\n",
       "      <td>0.000000</td>\n",
       "      <td>-0.000000</td>\n",
       "      <td>RoofMatl_WdShake</td>\n",
       "    </tr>\n",
       "    <tr>\n",
       "      <th>36</th>\n",
       "      <td>0.000000</td>\n",
       "      <td>-0.000000</td>\n",
       "      <td>Exterior2nd_Other</td>\n",
       "    </tr>\n",
       "    <tr>\n",
       "      <th>38</th>\n",
       "      <td>0.000000</td>\n",
       "      <td>0.000000</td>\n",
       "      <td>Exterior2nd_Stone</td>\n",
       "    </tr>\n",
       "    <tr>\n",
       "      <th>65</th>\n",
       "      <td>0.000000</td>\n",
       "      <td>0.000000</td>\n",
       "      <td>Electrical_FuseF</td>\n",
       "    </tr>\n",
       "    <tr>\n",
       "      <th>52</th>\n",
       "      <td>0.000000</td>\n",
       "      <td>0.000000</td>\n",
       "      <td>BsmtFinType1_unknown</td>\n",
       "    </tr>\n",
       "    <tr>\n",
       "      <th>64</th>\n",
       "      <td>0.000000</td>\n",
       "      <td>-0.000000</td>\n",
       "      <td>CentralAir_Y</td>\n",
       "    </tr>\n",
       "    <tr>\n",
       "      <th>63</th>\n",
       "      <td>0.000000</td>\n",
       "      <td>-0.000000</td>\n",
       "      <td>Heating_Wall</td>\n",
       "    </tr>\n",
       "    <tr>\n",
       "      <th>62</th>\n",
       "      <td>0.000000</td>\n",
       "      <td>0.000000</td>\n",
       "      <td>Heating_OthW</td>\n",
       "    </tr>\n",
       "    <tr>\n",
       "      <th>60</th>\n",
       "      <td>0.000000</td>\n",
       "      <td>0.000000</td>\n",
       "      <td>Heating_GasW</td>\n",
       "    </tr>\n",
       "    <tr>\n",
       "      <th>59</th>\n",
       "      <td>0.000000</td>\n",
       "      <td>-0.000000</td>\n",
       "      <td>Heating_GasA</td>\n",
       "    </tr>\n",
       "    <tr>\n",
       "      <th>58</th>\n",
       "      <td>0.000000</td>\n",
       "      <td>0.000000</td>\n",
       "      <td>BsmtFinType2_unknown</td>\n",
       "    </tr>\n",
       "    <tr>\n",
       "      <th>57</th>\n",
       "      <td>0.000000</td>\n",
       "      <td>-0.000000</td>\n",
       "      <td>BsmtFinType2_Unf</td>\n",
       "    </tr>\n",
       "    <tr>\n",
       "      <th>56</th>\n",
       "      <td>0.000000</td>\n",
       "      <td>0.000000</td>\n",
       "      <td>BsmtFinType2_Rec</td>\n",
       "    </tr>\n",
       "    <tr>\n",
       "      <th>55</th>\n",
       "      <td>0.000000</td>\n",
       "      <td>0.000000</td>\n",
       "      <td>BsmtFinType2_LwQ</td>\n",
       "    </tr>\n",
       "    <tr>\n",
       "      <th>54</th>\n",
       "      <td>0.000000</td>\n",
       "      <td>-0.000000</td>\n",
       "      <td>BsmtFinType2_GLQ</td>\n",
       "    </tr>\n",
       "    <tr>\n",
       "      <th>53</th>\n",
       "      <td>0.000000</td>\n",
       "      <td>-0.000000</td>\n",
       "      <td>BsmtFinType2_BLQ</td>\n",
       "    </tr>\n",
       "    <tr>\n",
       "      <th>51</th>\n",
       "      <td>0.000000</td>\n",
       "      <td>-0.000000</td>\n",
       "      <td>BsmtFinType1_Unf</td>\n",
       "    </tr>\n",
       "    <tr>\n",
       "      <th>39</th>\n",
       "      <td>0.000000</td>\n",
       "      <td>-0.000000</td>\n",
       "      <td>Exterior2nd_Stucco</td>\n",
       "    </tr>\n",
       "    <tr>\n",
       "      <th>50</th>\n",
       "      <td>0.000000</td>\n",
       "      <td>-0.000000</td>\n",
       "      <td>BsmtFinType1_Rec</td>\n",
       "    </tr>\n",
       "    <tr>\n",
       "      <th>49</th>\n",
       "      <td>0.000000</td>\n",
       "      <td>-0.000000</td>\n",
       "      <td>BsmtFinType1_LwQ</td>\n",
       "    </tr>\n",
       "    <tr>\n",
       "      <th>7</th>\n",
       "      <td>0.000000</td>\n",
       "      <td>0.000000</td>\n",
       "      <td>RoofMatl_CompShg</td>\n",
       "    </tr>\n",
       "    <tr>\n",
       "      <th>47</th>\n",
       "      <td>0.000000</td>\n",
       "      <td>-0.000000</td>\n",
       "      <td>BsmtFinType1_BLQ</td>\n",
       "    </tr>\n",
       "    <tr>\n",
       "      <th>46</th>\n",
       "      <td>0.000000</td>\n",
       "      <td>0.000000</td>\n",
       "      <td>BsmtCond_unknown</td>\n",
       "    </tr>\n",
       "    <tr>\n",
       "      <th>45</th>\n",
       "      <td>0.000000</td>\n",
       "      <td>0.000000</td>\n",
       "      <td>BsmtCond_TA</td>\n",
       "    </tr>\n",
       "    <tr>\n",
       "      <th>44</th>\n",
       "      <td>0.000000</td>\n",
       "      <td>0.000000</td>\n",
       "      <td>BsmtCond_Po</td>\n",
       "    </tr>\n",
       "    <tr>\n",
       "      <th>43</th>\n",
       "      <td>0.000000</td>\n",
       "      <td>-0.000000</td>\n",
       "      <td>BsmtCond_Gd</td>\n",
       "    </tr>\n",
       "    <tr>\n",
       "      <th>42</th>\n",
       "      <td>0.000000</td>\n",
       "      <td>-0.000000</td>\n",
       "      <td>Exterior2nd_Wd Shng</td>\n",
       "    </tr>\n",
       "    <tr>\n",
       "      <th>41</th>\n",
       "      <td>0.000000</td>\n",
       "      <td>-0.000000</td>\n",
       "      <td>Exterior2nd_Wd Sdng</td>\n",
       "    </tr>\n",
       "    <tr>\n",
       "      <th>40</th>\n",
       "      <td>0.000000</td>\n",
       "      <td>0.000000</td>\n",
       "      <td>Exterior2nd_VinylSd</td>\n",
       "    </tr>\n",
       "    <tr>\n",
       "      <th>61</th>\n",
       "      <td>0.000000</td>\n",
       "      <td>0.000000</td>\n",
       "      <td>Heating_Grav</td>\n",
       "    </tr>\n",
       "  </tbody>\n",
       "</table>\n",
       "<p>122 rows × 3 columns</p>\n",
       "</div>"
      ],
      "text/plain": [
       "     abs_coef      coef              variable\n",
       "71   0.103969 -0.103969        KitchenQual_Gd\n",
       "35   0.090448  0.090448   Exterior2nd_MetalSd\n",
       "98   0.087254 -0.087254          PavedDrive_Y\n",
       "26   0.068272 -0.068272   Exterior1st_Wd Sdng\n",
       "3    0.029237  0.029237           OverallQual\n",
       "121  0.015165 -0.015165          HeatingQC_TA\n",
       "82   0.012430 -0.012430        FireplaceQu_TA\n",
       "48   0.004283  0.004283      BsmtFinType1_GLQ\n",
       "4    0.000803  0.000803           OverallCond\n",
       "0    0.000341  0.000341            BsmtFinSF2\n",
       "2    0.000301  0.000301          LowQualFinSF\n",
       "5    0.000269 -0.000269          YearRemodAdd\n",
       "1    0.000079  0.000079             BsmtUnfSF\n",
       "10   0.000000 -0.000000         RoofMatl_Roll\n",
       "81   0.000000  0.000000        FireplaceQu_Po\n",
       "91   0.000000  0.000000    GarageQual_unknown\n",
       "90   0.000000 -0.000000         GarageQual_TA\n",
       "89   0.000000  0.000000         GarageQual_Po\n",
       "88   0.000000  0.000000         GarageQual_Gd\n",
       "87   0.000000  0.000000         GarageQual_Fa\n",
       "86   0.000000  0.000000  GarageFinish_unknown\n",
       "85   0.000000 -0.000000      GarageFinish_Unf\n",
       "84   0.000000 -0.000000      GarageFinish_RFn\n",
       "83   0.000000  0.000000   FireplaceQu_unknown\n",
       "80   0.000000  0.000000        FireplaceQu_Gd\n",
       "93   0.000000  0.000000         GarageCond_Gd\n",
       "79   0.000000 -0.000000        FireplaceQu_Fa\n",
       "78   0.000000  0.000000        Functional_Typ\n",
       "77   0.000000  0.000000        Functional_Sev\n",
       "76   0.000000 -0.000000        Functional_Mod\n",
       "..        ...       ...                   ...\n",
       "12   0.000000 -0.000000      RoofMatl_WdShake\n",
       "36   0.000000 -0.000000     Exterior2nd_Other\n",
       "38   0.000000  0.000000     Exterior2nd_Stone\n",
       "65   0.000000  0.000000      Electrical_FuseF\n",
       "52   0.000000  0.000000  BsmtFinType1_unknown\n",
       "64   0.000000 -0.000000          CentralAir_Y\n",
       "63   0.000000 -0.000000          Heating_Wall\n",
       "62   0.000000  0.000000          Heating_OthW\n",
       "60   0.000000  0.000000          Heating_GasW\n",
       "59   0.000000 -0.000000          Heating_GasA\n",
       "58   0.000000  0.000000  BsmtFinType2_unknown\n",
       "57   0.000000 -0.000000      BsmtFinType2_Unf\n",
       "56   0.000000  0.000000      BsmtFinType2_Rec\n",
       "55   0.000000  0.000000      BsmtFinType2_LwQ\n",
       "54   0.000000 -0.000000      BsmtFinType2_GLQ\n",
       "53   0.000000 -0.000000      BsmtFinType2_BLQ\n",
       "51   0.000000 -0.000000      BsmtFinType1_Unf\n",
       "39   0.000000 -0.000000    Exterior2nd_Stucco\n",
       "50   0.000000 -0.000000      BsmtFinType1_Rec\n",
       "49   0.000000 -0.000000      BsmtFinType1_LwQ\n",
       "7    0.000000  0.000000      RoofMatl_CompShg\n",
       "47   0.000000 -0.000000      BsmtFinType1_BLQ\n",
       "46   0.000000  0.000000      BsmtCond_unknown\n",
       "45   0.000000  0.000000           BsmtCond_TA\n",
       "44   0.000000  0.000000           BsmtCond_Po\n",
       "43   0.000000 -0.000000           BsmtCond_Gd\n",
       "42   0.000000 -0.000000   Exterior2nd_Wd Shng\n",
       "41   0.000000 -0.000000   Exterior2nd_Wd Sdng\n",
       "40   0.000000  0.000000   Exterior2nd_VinylSd\n",
       "61   0.000000  0.000000          Heating_Grav\n",
       "\n",
       "[122 rows x 3 columns]"
      ]
     },
     "execution_count": 18,
     "metadata": {},
     "output_type": "execute_result"
    }
   ],
   "source": [
    "lasso_coefs"
   ]
  },
  {
   "cell_type": "markdown",
   "metadata": {},
   "source": [
    "Answer: Non-fixed co-efficients and scores are too insignificant to provide any solid result. The only two noticeable features for improvement are Exterior2nd_MetalSd and OverallQual if you really want to squeeze something out of this analysis. "
   ]
  },
  {
   "cell_type": "markdown",
   "metadata": {},
   "source": [
    "<img src=\"http://imgur.com/GCAf1UX.png\" style=\"float: left; margin: 25px 15px 0px 0px; height: 25px\">\n",
    "\n",
    "## 3. What property characteristics predict an \"abnormal\" sale?\n",
    "\n",
    "---\n",
    "\n",
    "The `SaleCondition` feature indicates the circumstances of the house sale. From the data file, we can see that the possibilities are:\n",
    "\n",
    "       Normal\tNormal Sale\n",
    "       Abnorml\tAbnormal Sale -  trade, foreclosure, short sale\n",
    "       AdjLand\tAdjoining Land Purchase\n",
    "       Alloca\tAllocation - two linked properties with separate deeds, typically condo with a garage unit\t\n",
    "       Family\tSale between family members\n",
    "       Partial\tHome was not completed when last assessed (associated with New Homes)\n",
    "       \n",
    "One of the executives at your company has an \"in\" with higher-ups at the major regional bank. His friends at the bank have made him a proposal: if he can reliably indicate what features, if any, predict \"abnormal\" sales (foreclosures, short sales, etc.), then in return the bank will give him first dibs on the pre-auction purchase of those properties (at a dirt-cheap price).\n",
    "\n",
    "He has tasked you with determining (and adequately validating) which features of a property predict this type of sale. \n",
    "\n",
    "---\n",
    "\n",
    "**Your task:**\n",
    "1. Determine which features predict the `Abnorml` category in the `SaleCondition` feature.\n",
    "- Justify your results.\n",
    "\n",
    "This is a challenging task that tests your ability to perform classification analysis in the face of severe class imbalance. You may find that simply running a classifier on the full dataset to predict the category ends up useless: when there is bad class imbalance classifiers often tend to simply guess the majority class.\n",
    "\n",
    "It is up to you to determine how you will tackle this problem. I recommend doing some research to find out how others have dealt with the problem in the past. Make sure to justify your solution. Don't worry about it being \"the best\" solution, but be rigorous.\n",
    "\n",
    "Be sure to indicate which features are predictive (if any) and whether they are positive or negative predictors of abnormal sales."
   ]
  },
  {
   "cell_type": "markdown",
   "metadata": {},
   "source": [
    "3a. Exclude PoolQC, Fence, MiscFeature, Alley because they have to mny null values to be useful"
   ]
  },
  {
   "cell_type": "code",
   "execution_count": 19,
   "metadata": {},
   "outputs": [],
   "source": [
    "# Check the variables and exclude those that are not useful\n",
    "house['SaleCondition'].value_counts()\n",
    "mydf = house[house['SaleCondition'] == 'Abnorml']"
   ]
  },
  {
   "cell_type": "markdown",
   "metadata": {},
   "source": [
    "3b. Install imblearn to solve the class imbalance issues"
   ]
  },
  {
   "cell_type": "code",
   "execution_count": 20,
   "metadata": {},
   "outputs": [
    {
     "name": "stdout",
     "output_type": "stream",
     "text": [
      "Requirement already satisfied: imblearn in c:\\anaconda2\\lib\\site-packages\n",
      "Requirement already satisfied: imbalanced-learn in c:\\anaconda2\\lib\\site-packages (from imblearn)\n",
      "Requirement already satisfied: numpy in c:\\anaconda2\\lib\\site-packages (from imbalanced-learn->imblearn)\n",
      "Requirement already satisfied: scipy in c:\\anaconda2\\lib\\site-packages (from imbalanced-learn->imblearn)\n",
      "Requirement already satisfied: scikit-learn in c:\\anaconda2\\lib\\site-packages (from imbalanced-learn->imblearn)\n"
     ]
    },
    {
     "name": "stderr",
     "output_type": "stream",
     "text": [
      "You are using pip version 9.0.1, however version 10.0.1 is available.\n",
      "You should consider upgrading via the 'python -m pip install --upgrade pip' command.\n"
     ]
    }
   ],
   "source": [
    "!pip install imblearn"
   ]
  },
  {
   "cell_type": "markdown",
   "metadata": {},
   "source": [
    "3c. Similar to Q1, we clean the data before we can use them"
   ]
  },
  {
   "cell_type": "code",
   "execution_count": 21,
   "metadata": {},
   "outputs": [
    {
     "name": "stderr",
     "output_type": "stream",
     "text": [
      "C:\\Anaconda2\\lib\\site-packages\\ipykernel_launcher.py:9: SettingWithCopyWarning: \n",
      "A value is trying to be set on a copy of a slice from a DataFrame.\n",
      "Try using .loc[row_indexer,col_indexer] = value instead\n",
      "\n",
      "See the caveats in the documentation: http://pandas.pydata.org/pandas-docs/stable/indexing.html#indexing-view-versus-copy\n",
      "  if __name__ == '__main__':\n",
      "C:\\Anaconda2\\lib\\site-packages\\ipykernel_launcher.py:10: SettingWithCopyWarning: \n",
      "A value is trying to be set on a copy of a slice from a DataFrame.\n",
      "Try using .loc[row_indexer,col_indexer] = value instead\n",
      "\n",
      "See the caveats in the documentation: http://pandas.pydata.org/pandas-docs/stable/indexing.html#indexing-view-versus-copy\n",
      "  # Remove the CWD from sys.path while we load stuff.\n",
      "C:\\Anaconda2\\lib\\site-packages\\ipykernel_launcher.py:11: SettingWithCopyWarning: \n",
      "A value is trying to be set on a copy of a slice from a DataFrame.\n",
      "Try using .loc[row_indexer,col_indexer] = value instead\n",
      "\n",
      "See the caveats in the documentation: http://pandas.pydata.org/pandas-docs/stable/indexing.html#indexing-view-versus-copy\n",
      "  # This is added back by InteractiveShellApp.init_path()\n",
      "C:\\Anaconda2\\lib\\site-packages\\ipykernel_launcher.py:32: SettingWithCopyWarning: \n",
      "A value is trying to be set on a copy of a slice from a DataFrame.\n",
      "Try using .loc[row_indexer,col_indexer] = value instead\n",
      "\n",
      "See the caveats in the documentation: http://pandas.pydata.org/pandas-docs/stable/indexing.html#indexing-view-versus-copy\n",
      "C:\\Anaconda2\\lib\\site-packages\\ipykernel_launcher.py:33: SettingWithCopyWarning: \n",
      "A value is trying to be set on a copy of a slice from a DataFrame.\n",
      "Try using .loc[row_indexer,col_indexer] = value instead\n",
      "\n",
      "See the caveats in the documentation: http://pandas.pydata.org/pandas-docs/stable/indexing.html#indexing-view-versus-copy\n"
     ]
    }
   ],
   "source": [
    "categorical = [\"Utilities\", \"RoofMatl\", \"Exterior1st\", \"Exterior2nd\", \"BsmtCond\", \"BsmtFinType1\", \"BsmtFinType2\", \"Heating\", \"CentralAir\", \"Electrical\", \"KitchenQual\", \"Functional\", \"FireplaceQu\", \"GarageFinish\", \"GarageQual\", \"GarageCond\", \"PavedDrive\", \"Fence\", \"SaleType\", \"ExterQual\", \"ExterCond\", \"HeatingQC\", \"MSSubClass\", \"MSZoning\", \"Street\", \"Alley\", \"LotShape\", \"LandContour\", \"LotConfig\", \"LandSlope\", \"Neighborhood\", \"Condition1\", \"Condition2\", \"BldgType\", \"HouseStyle\", \"RoofStyle\", \"MasVnrType\", \"Foundation\", \"BsmtQual\", \"BsmtExposure\", \"GarageType\", \"MiscFeature\", \"MoSold\", \"YrSold\"]\n",
    "numeric = [\"BsmtFinSF2\", \"BsmtUnfSF\", \"LowQualFinSF\", \"LotFrontage\", \"LotArea\", \"MasVnrArea\", \"TotalBsmtSF\", \"1stFlrSF\", \"2ndFlrSF\", \"GrLivArea\", \"BsmtFullBath\", \"BsmtHalfBath\", \"FullBath\", \"HalfBath\", \"BedroomAbvGr\", \"KitchenAbvGr\", \"TotRmsAbvGrd\", \"Fireplaces\", \"GarageCars\", \"GarageArea\", \"WoodDeckSF\", \"OpenPorchSF\", \"EnclosedPorch\", \"3SsnPorch\", \"ScreenPorch\", \"PoolArea\", \"MiscVal\"]\n",
    "ordinal =[\"YearBuilt\", \"GarageYrBlt\", \"OverallQual\", \"OverallCond\", \"YearRemodAdd\"]\n",
    "\n",
    "df_q3_categorical = house[categorical]\n",
    "df_q3_numeric = house[fixed_numeric]\n",
    "df_q3_ordinal = house[fixed_ordinal]\n",
    "\n",
    "df_q3_categorical['MSSubClass'] = df_q3_categorical['MSSubClass'].apply(lambda x: str(x))\n",
    "df_q3_categorical['MoSold'] = df_q3_categorical['MoSold'].apply(lambda x: str(x))\n",
    "df_q3_categorical['YrSold'] = df_q3_categorical['YrSold'].apply(lambda x: str(x))\n",
    "\n",
    "# replacing nan from numeric and ordinal subsets with mean\n",
    "df_q3_numeric = df_q3_numeric.fillna(df_q3_numeric.mean())\n",
    "df_q3_ordinal = df_q3_ordinal.fillna(df_q3_ordinal.mean())\n",
    "\n",
    "\n",
    "# replacing nan from categorical subsets with 'unknown'\n",
    "df_q3_categorical = df_q3_categorical.fillna(\"unknown\")\n",
    "\n",
    "# replacing cat values with dummy variables\n",
    "df_q3_categorical = pd.get_dummies(df_q3_categorical, drop_first = True)\n",
    "\n",
    "#combine all 3 types of subsets into 1\n",
    "df_q3 = pd.concat([df_q3_numeric, df_q3_ordinal, df_q3_categorical], axis=1)\n",
    "\n",
    "#spilt dataset into training(pre2010) and testing(2010) subsets\n",
    "df_q3_pre2010 = df_q3[df_q3['YrSold_2010'] == 0]\n",
    "df_q3_2010 = df_q3[df_q3['YrSold_2010'] == 1]\n",
    "\n",
    "# Standardize\n",
    "df_q3_pre2010[list(df_q3_pre2010)] = scaler.fit_transform(df_q3_pre2010[list(df_q3_pre2010)])\n",
    "df_q3_2010[list(df_q3_2010)] = scaler.fit_transform(df_q3_2010[list(df_q3_2010)])\n",
    "\n",
    "# Create y_test(abnormal)\n",
    "df_q3_abnormal = house[house['YrSold'] != 2010]['SaleCondition']\n",
    "df_q3_abnormal = df_q3_abnormal.apply(lambda x : 1 if(x == \"Abnorml\") else 0)\n"
   ]
  },
  {
   "cell_type": "markdown",
   "metadata": {},
   "source": [
    "3d. Over sample our training dataset, then feed it to the models, Search for the best model"
   ]
  },
  {
   "cell_type": "code",
   "execution_count": 22,
   "metadata": {},
   "outputs": [
    {
     "name": "stderr",
     "output_type": "stream",
     "text": [
      "C:\\Anaconda2\\lib\\site-packages\\sklearn\\cross_validation.py:41: DeprecationWarning: This module was deprecated in version 0.18 in favor of the model_selection module into which all the refactored classes and functions are moved. Also note that the interface of the new CV iterators are different from that of this module. This module will be removed in 0.20.\n",
      "  \"This module will be removed in 0.20.\", DeprecationWarning)\n",
      "C:\\Anaconda2\\lib\\site-packages\\sklearn\\grid_search.py:42: DeprecationWarning: This module was deprecated in version 0.18 in favor of the model_selection module into which all the refactored classes and functions are moved. This module will be removed in 0.20.\n",
      "  DeprecationWarning)\n",
      "C:\\Anaconda2\\lib\\site-packages\\sklearn\\metrics\\classification.py:1135: UndefinedMetricWarning: F-score is ill-defined and being set to 0.0 in labels with no predicted samples.\n",
      "  'precision', 'predicted', average, warn_for)\n"
     ]
    },
    {
     "name": "stdout",
     "output_type": "stream",
     "text": [
      "{'penalty': 'elasticnet', 'alpha': 0.001, 'loss': 'hinge'}\n",
      "             precision    recall  f1-score   support\n",
      "\n",
      "          0       0.95      0.91      0.93       164\n",
      "          1       0.17      0.27      0.21        11\n",
      "\n",
      "avg / total       0.90      0.87      0.88       175\n",
      "\n"
     ]
    }
   ],
   "source": [
    "from imblearn.over_sampling import SMOTE\n",
    "from imblearn.under_sampling import RandomUnderSampler\n",
    "from imblearn.combine import SMOTETomek, SMOTEENN\n",
    "from sklearn.grid_search import GridSearchCV\n",
    "from sklearn.metrics import classification_report\n",
    "from sklearn.linear_model import SGDClassifier\n",
    "\n",
    "# I favor oversampling because we have only 100+ abnormal cases\n",
    "os = SMOTE(random_state = 2)\n",
    "X_train_res, y_train_res = os.fit_sample(df_q3_pre2010, df_q3_abnormal )\n",
    "\n",
    "# Use below to try undersampling\n",
    "# us = RandomUnderSampler(ratio = 0.5, random_state = 2)\n",
    "# X_train_res, y_train_res = us.fit_sample(df_q3_pre2010, df_q3_abnormal )\n",
    "\n",
    "# Test out which model has the best results: elasticnet or lasso; logistic regression or SVM\n",
    "tuned_parameters = {'alpha': [10 ** a for a in range(-6, 3)], \n",
    "                   'penalty': ['elasticnet', 'l2'],\n",
    "                   'loss': ['hinge', 'log']}\n",
    "clf = GridSearchCV(SGDClassifier( max_iter=10, shuffle=False, verbose=False, n_jobs=10, average=False, class_weight='balanced'), tuned_parameters, cv=5, scoring='f1_macro')\n",
    "\n",
    "# Now clf is the best classifier found given the search space\n",
    "clf.fit(X_train_res, y_train_res)\n",
    "\n",
    "# Check the propeties of your model\n",
    "print(clf.best_params_)    \n",
    "y_test = house[house['YrSold'] == 2010]['SaleCondition']\n",
    "y_test  = y_test .apply(lambda x : 1 if(x == \"Abnorml\") else 0)\n",
    "\n",
    "print classification_report(y_test, clf.predict(df_q3_2010))\n"
   ]
  },
  {
   "cell_type": "markdown",
   "metadata": {},
   "source": [
    "3e. 0.27 recall isn't impressive. We extract the top 15 estimators and run everything again "
   ]
  },
  {
   "cell_type": "code",
   "execution_count": 23,
   "metadata": {},
   "outputs": [
    {
     "data": {
      "text/plain": [
       "array([ 35,  94, 129, 241, 174,  75,  98, 189, 173,  21, 160, 178, 244,\n",
       "        79, 245], dtype=int64)"
      ]
     },
     "execution_count": 23,
     "metadata": {},
     "output_type": "execute_result"
    }
   ],
   "source": [
    "for i in range(0, clf.best_estimator_.coef_.shape[0]):\n",
    "    top15 = np.argsort(clf.best_estimator_.coef_[i])[-15:]\n",
    "top15"
   ]
  },
  {
   "cell_type": "code",
   "execution_count": 24,
   "metadata": {},
   "outputs": [],
   "source": [
    "df_top15_pre2010 = df_q3_pre2010.iloc[:, top15]"
   ]
  },
  {
   "cell_type": "code",
   "execution_count": 26,
   "metadata": {},
   "outputs": [
    {
     "name": "stdout",
     "output_type": "stream",
     "text": [
      "{'penalty': 'l2', 'alpha': 0.1, 'loss': 'log'}\n",
      "             precision    recall  f1-score   support\n",
      "\n",
      "          0       0.95      0.57      0.71       164\n",
      "          1       0.08      0.55      0.14        11\n",
      "\n",
      "avg / total       0.89      0.57      0.68       175\n",
      "\n"
     ]
    }
   ],
   "source": [
    "os = SMOTE(random_state = 2)\n",
    "\n",
    "X_train_res, y_train_res = os.fit_sample(df_top15_pre2010, df_q3_abnormal )\n",
    "\n",
    "# us = RandomUnderSampler(ratio = 0.5, random_state = 2)\n",
    "# X_train_res, y_train_res = us.fit_sample(df_q3_pre2010, df_q3_abnormal )\n",
    "\n",
    "tuned_parameters = {'alpha': [10 ** a for a in range(-6, 3)], \n",
    "                   'penalty': ['elasticnet', 'l2'],\n",
    "                   'loss': ['hinge', 'log']}\n",
    "clf = GridSearchCV(SGDClassifier( max_iter=10, shuffle=False, verbose=False, n_jobs=10, average=False, class_weight='balanced'), tuned_parameters, cv=5, scoring='f1_macro')\n",
    "\n",
    "#now clf is the best classifier found given the search space\n",
    "clf.fit(X_train_res, y_train_res)\n",
    "\n",
    "#you can find the best alpha here\n",
    "print(clf.best_params_)    \n",
    "y_test = house[house['YrSold'] == 2010]['SaleCondition']\n",
    "y_test  = y_test.apply(lambda x : 1 if(x == \"Abnorml\") else 0)\n",
    "df_top15_2010 = df_q3_2010.iloc[:, top15]\n",
    "\n",
    "print classification_report(y_test, clf.predict(df_top15_2010))"
   ]
  },
  {
   "cell_type": "markdown",
   "metadata": {},
   "source": [
    "3f. The new result looks more promising."
   ]
  },
  {
   "cell_type": "markdown",
   "metadata": {},
   "source": [
    "The following are the features you should take note for abnormal sale"
   ]
  },
  {
   "cell_type": "code",
   "execution_count": 27,
   "metadata": {},
   "outputs": [
    {
     "data": {
      "text/plain": [
       "Index([u'Exterior1st_BrkComm', u'Functional_Min1', u'SaleType_Oth',\n",
       "       u'BsmtQual_TA', u'LandSlope_Sev', u'BsmtFinType2_LwQ',\n",
       "       u'Functional_Typ', u'Neighborhood_NoRidge', u'LandSlope_Mod',\n",
       "       u'ScreenPorch', u'Street_Pave', u'Neighborhood_ClearCr',\n",
       "       u'BsmtExposure_Mn', u'Heating_GasA', u'BsmtExposure_No'],\n",
       "      dtype='object')"
      ]
     },
     "execution_count": 27,
     "metadata": {},
     "output_type": "execute_result"
    }
   ],
   "source": [
    "df_top15_pre2010.columns"
   ]
  },
  {
   "cell_type": "code",
   "execution_count": null,
   "metadata": {},
   "outputs": [],
   "source": []
  }
 ],
 "metadata": {
  "kernelspec": {
   "display_name": "Python 2",
   "language": "python",
   "name": "python2"
  },
  "language_info": {
   "codemirror_mode": {
    "name": "ipython",
    "version": 2
   },
   "file_extension": ".py",
   "mimetype": "text/x-python",
   "name": "python",
   "nbconvert_exporter": "python",
   "pygments_lexer": "ipython2",
   "version": "2.7.14"
  }
 },
 "nbformat": 4,
 "nbformat_minor": 2
}
